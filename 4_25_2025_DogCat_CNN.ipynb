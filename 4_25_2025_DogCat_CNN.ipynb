{
  "cells": [
    {
      "cell_type": "markdown",
      "metadata": {
        "id": "view-in-github",
        "colab_type": "text"
      },
      "source": [
        "<a href=\"https://colab.research.google.com/github/jared-ni/cs2241-final/blob/main/4_25_2025_DogCat_CNN.ipynb\" target=\"_parent\"><img src=\"https://colab.research.google.com/assets/colab-badge.svg\" alt=\"Open In Colab\"/></a>"
      ]
    },
    {
      "cell_type": "code",
      "execution_count": 1,
      "metadata": {
        "id": "9xC0ezTPjeeN"
      },
      "outputs": [],
      "source": [
        "import numpy as np\n",
        "import torch\n",
        "import matplotlib.pyplot as plt\n",
        "from scipy.ndimage import gaussian_filter\n",
        "import os"
      ]
    },
    {
      "cell_type": "code",
      "execution_count": 2,
      "metadata": {
        "colab": {
          "base_uri": "https://localhost:8080/"
        },
        "id": "GZKVcuhrtJWx",
        "outputId": "dd3c7815-e158-4a08-a9bf-67b20483e4c7"
      },
      "outputs": [
        {
          "output_type": "stream",
          "name": "stdout",
          "text": [
            "Mounted at /content/drive\n"
          ]
        }
      ],
      "source": [
        "    from google.colab import drive\n",
        "    drive.mount('/content/drive')"
      ]
    },
    {
      "cell_type": "code",
      "execution_count": 3,
      "metadata": {
        "colab": {
          "base_uri": "https://localhost:8080/"
        },
        "id": "r5-48L1Sromn",
        "outputId": "e46b4651-ece9-4ca3-fcfd-caedafa586fe"
      },
      "outputs": [
        {
          "output_type": "stream",
          "name": "stdout",
          "text": [
            "TensorFlow Version: 2.18.0\n",
            "Found GPU: /physical_device:GPU:0. Training will be accelerated.\n"
          ]
        }
      ],
      "source": [
        "# --- 1. Setup and Imports ---\n",
        "import tensorflow as tf\n",
        "from tensorflow import keras\n",
        "from tensorflow.keras import layers\n",
        "from tensorflow.keras.models import Sequential\n",
        "import kagglehub\n",
        "import os\n",
        "import pathlib\n",
        "import matplotlib.pyplot as plt\n",
        "import time\n",
        "\n",
        "print(\"TensorFlow Version:\", tf.__version__)\n",
        "\n",
        "# --- Check for GPU ---\n",
        "gpu_devices = tf.config.list_physical_devices('GPU')\n",
        "if gpu_devices:\n",
        "    print(f\"Found GPU: {gpu_devices[0].name}. Training will be accelerated.\")\n",
        "    tf.config.experimental.set_memory_growth(gpu_devices[0], True) # Prevent TensorFlow from allocating all GPU memory at once\n",
        "else:\n",
        "    print(\"No GPU found. Training will run on CPU (might be slow).\")\n",
        "    print(\"Runtime > Change runtime type > Hardware accelerator > GPU\")"
      ]
    },
    {
      "cell_type": "code",
      "execution_count": 4,
      "metadata": {
        "colab": {
          "base_uri": "https://localhost:8080/"
        },
        "id": "czyE3UlPp-z0",
        "outputId": "477d7e4f-46ef-4ad9-e72a-0982795c1d6d"
      },
      "outputs": [
        {
          "output_type": "stream",
          "name": "stdout",
          "text": [
            "Path to dataset files: /kaggle/input/dog-and-cat-classification-dataset/PetImages\n"
          ]
        }
      ],
      "source": [
        "import kagglehub\n",
        "import os\n",
        "import tensorflow as tf\n",
        "from tensorflow import keras\n",
        "from tensorflow.keras import layers\n",
        "from tensorflow.keras.models import Sequential\n",
        "import matplotlib.pyplot as plt\n",
        "import pathlib\n",
        "\n",
        "# Download latest version\n",
        "data_root = kagglehub.dataset_download(\"bhavikjikadara/dog-and-cat-classification-dataset\")\n",
        "\n",
        "data_dir = os.path.join(data_root, 'PetImages')\n",
        "\n",
        "print(\"Path to dataset files:\", data_dir)"
      ]
    },
    {
      "cell_type": "code",
      "execution_count": 5,
      "metadata": {
        "id": "QPku-jcSCICl"
      },
      "outputs": [],
      "source": [
        "from tensorflow import keras\n",
        "from tensorflow.keras import Input\n",
        "from tensorflow.keras.models import Sequential\n",
        "from tensorflow.keras.layers import Conv2D, MaxPooling2D, Dropout, Flatten, Dense\n",
        "from tensorflow.keras.preprocessing.image import ImageDataGenerator"
      ]
    },
    {
      "cell_type": "code",
      "execution_count": 6,
      "metadata": {
        "colab": {
          "base_uri": "https://localhost:8080/"
        },
        "id": "COZY8nDOCnNT",
        "outputId": "0704b4b6-6d80-473e-8776-45305c301953"
      },
      "outputs": [
        {
          "output_type": "stream",
          "name": "stdout",
          "text": [
            "Path to output files: {'train': '/kaggle/split_data/train', 'val': '/kaggle/split_data/val', 'test': '/kaggle/split_data/test'}\n"
          ]
        },
        {
          "output_type": "stream",
          "name": "stderr",
          "text": [
            "Copying Cat to train: 100%|██████████| 9999/9999 [00:59<00:00, 168.14it/s]\n",
            "Copying Cat to val: 100%|██████████| 1250/1250 [00:07<00:00, 165.82it/s]\n",
            "Copying Cat to test: 100%|██████████| 1250/1250 [00:07<00:00, 162.57it/s]\n",
            "Copying Dog to train: 100%|██████████| 9999/9999 [01:02<00:00, 160.31it/s]\n",
            "Copying Dog to val: 100%|██████████| 1250/1250 [00:06<00:00, 180.02it/s]\n",
            "Copying Dog to test: 100%|██████████| 1250/1250 [00:07<00:00, 163.08it/s]\n"
          ]
        }
      ],
      "source": [
        "import os\n",
        "import shutil\n",
        "import random\n",
        "from tqdm import tqdm\n",
        "\n",
        "output_base_dir = \"/kaggle/split_data\"  # You can change this to your desired location\n",
        "\n",
        "# Output folders\n",
        "output_dirs = {\n",
        "    'train': os.path.join(output_base_dir, 'train'),\n",
        "    'val': os.path.join(output_base_dir, 'val'),\n",
        "    'test': os.path.join(output_base_dir, 'test')\n",
        "}\n",
        "\n",
        "# Classes (folder names in PetImages/)\n",
        "classes = ['Cat', 'Dog']\n",
        "split_ratio = [0.8, 0.1, 0.1]\n",
        "\n",
        "# Create output folders\n",
        "for split in output_dirs:\n",
        "    for cls in classes:\n",
        "        os.makedirs(os.path.join(output_dirs[split], cls), exist_ok=True)\n",
        "\n",
        "print(\"Path to output files:\", output_dirs)\n",
        "# Split images\n",
        "for cls in classes:\n",
        "    src_folder = os.path.join(data_dir, cls)\n",
        "    all_files = [f for f in os.listdir(src_folder) if f.lower().endswith(('.jpg', '.jpeg', '.png'))]\n",
        "    random.shuffle(all_files)\n",
        "\n",
        "    train_cutoff = int(len(all_files) * split_ratio[0])\n",
        "    val_cutoff = int(len(all_files) * (split_ratio[0] + split_ratio[1]))\n",
        "\n",
        "    splits = {\n",
        "        'train': all_files[:train_cutoff],\n",
        "        'val': all_files[train_cutoff:val_cutoff],\n",
        "        'test': all_files[val_cutoff:]\n",
        "    }\n",
        "\n",
        "    for split, files in splits.items():\n",
        "        for f in tqdm(files, desc=f\"Copying {cls} to {split}\"):\n",
        "            src = os.path.join(src_folder, f)\n",
        "            dst = os.path.join(output_dirs[split], cls, f)\n",
        "            try:\n",
        "                shutil.copyfile(src, dst)\n",
        "            except Exception as e:\n",
        "                pass  # Skip corrupted files\n"
      ]
    },
    {
      "cell_type": "code",
      "execution_count": 7,
      "metadata": {
        "colab": {
          "base_uri": "https://localhost:8080/"
        },
        "id": "H3i0CBKXGpnV",
        "outputId": "02a86ec4-961f-4eab-cdb0-40b04477226a"
      },
      "outputs": [
        {
          "output_type": "stream",
          "name": "stdout",
          "text": [
            "Found 19998 images belonging to 2 classes.\n",
            "Found 2500 images belonging to 2 classes.\n",
            "Found 2500 images belonging to 2 classes.\n"
          ]
        }
      ],
      "source": [
        "from tensorflow.keras.preprocessing.image import ImageDataGenerator\n",
        "\n",
        "input_size = (128, 128)\n",
        "batch_size = 128\n",
        "\n",
        "augmentor = ImageDataGenerator(samplewise_center=True,\n",
        "                               samplewise_std_normalization=True)\n",
        "\n",
        "train_generator = augmentor.flow_from_directory(\n",
        "    '/kaggle/split_data/train',\n",
        "    target_size=input_size,\n",
        "    batch_size=batch_size,\n",
        "    shuffle=True\n",
        ")\n",
        "\n",
        "val_generator = augmentor.flow_from_directory(\n",
        "    '/kaggle/split_data/val',\n",
        "    target_size=input_size,\n",
        "    batch_size=batch_size,\n",
        "    shuffle=False\n",
        ")\n",
        "\n",
        "test_generator = augmentor.flow_from_directory(\n",
        "    '/kaggle/split_data/test',\n",
        "    target_size=input_size,\n",
        "    batch_size=batch_size,\n",
        "    shuffle=False\n",
        ")"
      ]
    },
    {
      "cell_type": "code",
      "execution_count": 28,
      "metadata": {
        "id": "WeZtKXpdG1wA",
        "colab": {
          "base_uri": "https://localhost:8080/"
        },
        "outputId": "62289c27-cd81-42ac-aa9f-04485a5e7ac3"
      },
      "outputs": [
        {
          "output_type": "stream",
          "name": "stdout",
          "text": [
            "2\n"
          ]
        }
      ],
      "source": [
        "num_classes = len(train_generator.class_indices)\n",
        "input_shape = (128,128,3)\n",
        "print(num_classes)"
      ]
    },
    {
      "cell_type": "code",
      "execution_count": 29,
      "metadata": {
        "colab": {
          "base_uri": "https://localhost:8080/"
        },
        "id": "gn7-xooXG2nV",
        "outputId": "31fd2584-9e89-4001-e5d9-e3b910cbf38f"
      },
      "outputs": [
        {
          "output_type": "stream",
          "name": "stdout",
          "text": [
            "Model Layers:\n",
            "0 conv2d_56 N/A\n",
            "1 conv2d_57 N/A\n",
            "2 max_pooling2d_23 N/A\n",
            "3 dropout_35 N/A\n",
            "4 conv2d_58 N/A\n",
            "5 conv2d_59 N/A\n",
            "6 max_pooling2d_24 N/A\n",
            "7 dropout_36 N/A\n",
            "8 conv2d_60 N/A\n",
            "9 conv2d_61 N/A\n",
            "10 max_pooling2d_25 N/A\n",
            "11 dropout_37 N/A\n",
            "12 conv2d_62 N/A\n",
            "13 conv2d_63 N/A\n",
            "14 final_pool_layer N/A\n",
            "15 dropout_38 N/A\n",
            "16 flatten_7 N/A\n",
            "17 dense_21 N/A\n",
            "18 dense_22 N/A\n",
            "19 dropout_39 N/A\n",
            "20 dense_23 N/A\n"
          ]
        }
      ],
      "source": [
        "model = Sequential([\n",
        "    Input(shape = input_shape),\n",
        "    Conv2D (32, kernel_size = (3,3), activation= \"relu\"),\n",
        "    Conv2D (32, kernel_size = (3,3), activation= \"relu\"),\n",
        "    MaxPooling2D(pool_size=(2,2)),\n",
        "    Dropout(0.3),\n",
        "\n",
        "\n",
        "    Conv2D (64, kernel_size = (3,3), activation= \"relu\"),\n",
        "    Conv2D (64, kernel_size = (3,3), activation= \"relu\"),\n",
        "    MaxPooling2D(pool_size=(2,2)),\n",
        "    Dropout(0.3),\n",
        "\n",
        "\n",
        "    Conv2D (128, kernel_size = (3,3), activation= \"relu\"),\n",
        "    Conv2D (128, kernel_size = (3,3), activation= \"relu\"),\n",
        "    MaxPooling2D(pool_size=(2,2)),\n",
        "    Dropout(0.3),\n",
        "\n",
        "    Conv2D (256, kernel_size = (3,3), activation= \"relu\"),\n",
        "    Conv2D (256, kernel_size = (3,3), activation= \"relu\"),\n",
        "    MaxPooling2D(pool_size=(2,2), name='final_pool_layer'),\n",
        "    Dropout(0.3),\n",
        "\n",
        "    Flatten(),\n",
        "    Dense(256, activation = 'relu'),\n",
        "    Dense(128 , activation = 'relu'),\n",
        "    Dropout(0.3),\n",
        "    Dense(num_classes, activation='softmax')\n",
        "], name=\"original_sequential_model\")\n",
        "\n",
        "model.build(input_shape=(None,) + input_shape)\n",
        "\n",
        "model.compile(optimizer='adam',\n",
        "             loss= 'categorical_crossentropy',\n",
        "             metrics =[\"accuracy\"])\n",
        "# model.summary()\n",
        "\n",
        "print(\"Model Layers:\")\n",
        "for i, layer in enumerate(model.layers):\n",
        "    print(i, layer.name, getattr(layer, 'output_shape', 'N/A'))"
      ]
    },
    {
      "cell_type": "code",
      "execution_count": 30,
      "metadata": {
        "colab": {
          "base_uri": "https://localhost:8080/"
        },
        "id": "ARehXgtnG8xo",
        "outputId": "03512a2e-6902-4cc2-e546-219d7a90149d"
      },
      "outputs": [
        {
          "output_type": "stream",
          "name": "stdout",
          "text": [
            "Epoch 1/15\n",
            "\u001b[1m  6/157\u001b[0m \u001b[37m━━━━━━━━━━━━━━━━━━━━\u001b[0m \u001b[1m25s\u001b[0m 168ms/step - accuracy: 0.4882 - loss: 0.7747"
          ]
        },
        {
          "output_type": "stream",
          "name": "stderr",
          "text": [
            "/usr/local/lib/python3.11/dist-packages/PIL/TiffImagePlugin.py:950: UserWarning: Truncated File Read\n",
            "  warnings.warn(str(msg))\n"
          ]
        },
        {
          "output_type": "stream",
          "name": "stdout",
          "text": [
            "\u001b[1m157/157\u001b[0m \u001b[32m━━━━━━━━━━━━━━━━━━━━\u001b[0m\u001b[37m\u001b[0m \u001b[1m0s\u001b[0m 252ms/step - accuracy: 0.5164 - loss: 0.6986"
          ]
        },
        {
          "output_type": "stream",
          "name": "stderr",
          "text": [
            "/usr/local/lib/python3.11/dist-packages/keras/src/trainers/data_adapters/py_dataset_adapter.py:121: UserWarning: Your `PyDataset` class should call `super().__init__(**kwargs)` in its constructor. `**kwargs` can include `workers`, `use_multiprocessing`, `max_queue_size`. Do not pass these arguments to `fit()`, as they will be ignored.\n",
            "  self._warn_if_super_not_called()\n"
          ]
        },
        {
          "output_type": "stream",
          "name": "stdout",
          "text": [
            "\b\b\b\b\b\b\b\b\b\b\b\b\b\b\b\b\b\b\b\b\b\b\b\b\b\b\b\b\b\b\b\b\b\b\b\b\b\b\b\b\b\b\b\b\b\b\b\b\b\b\b\b\b\b\b\b\b\b\b\b\b\b\b\b\b\b\b\b\b\b\b\b\b\b\b\b\r\u001b[1m157/157\u001b[0m \u001b[32m━━━━━━━━━━━━━━━━━━━━\u001b[0m\u001b[37m\u001b[0m \u001b[1m67s\u001b[0m 316ms/step - accuracy: 0.5167 - loss: 0.6984 - val_accuracy: 0.6452 - val_loss: 0.6299\n",
            "Epoch 2/15\n",
            "\u001b[1m157/157\u001b[0m \u001b[32m━━━━━━━━━━━━━━━━━━━━\u001b[0m\u001b[37m\u001b[0m \u001b[1m36s\u001b[0m 230ms/step - accuracy: 0.6764 - loss: 0.5975 - val_accuracy: 0.6960 - val_loss: 0.5981\n",
            "Epoch 3/15\n",
            "\u001b[1m157/157\u001b[0m \u001b[32m━━━━━━━━━━━━━━━━━━━━\u001b[0m\u001b[37m\u001b[0m \u001b[1m36s\u001b[0m 231ms/step - accuracy: 0.7258 - loss: 0.5476 - val_accuracy: 0.7588 - val_loss: 0.5115\n",
            "Epoch 4/15\n",
            "\u001b[1m157/157\u001b[0m \u001b[32m━━━━━━━━━━━━━━━━━━━━\u001b[0m\u001b[37m\u001b[0m \u001b[1m36s\u001b[0m 230ms/step - accuracy: 0.7601 - loss: 0.4934 - val_accuracy: 0.7696 - val_loss: 0.4738\n",
            "Epoch 5/15\n",
            "\u001b[1m157/157\u001b[0m \u001b[32m━━━━━━━━━━━━━━━━━━━━\u001b[0m\u001b[37m\u001b[0m \u001b[1m36s\u001b[0m 227ms/step - accuracy: 0.7958 - loss: 0.4378 - val_accuracy: 0.8096 - val_loss: 0.4096\n",
            "Epoch 6/15\n",
            "\u001b[1m157/157\u001b[0m \u001b[32m━━━━━━━━━━━━━━━━━━━━\u001b[0m\u001b[37m\u001b[0m \u001b[1m36s\u001b[0m 227ms/step - accuracy: 0.8291 - loss: 0.3863 - val_accuracy: 0.8372 - val_loss: 0.3638\n",
            "Epoch 7/15\n",
            "\u001b[1m157/157\u001b[0m \u001b[32m━━━━━━━━━━━━━━━━━━━━\u001b[0m\u001b[37m\u001b[0m \u001b[1m36s\u001b[0m 231ms/step - accuracy: 0.8541 - loss: 0.3394 - val_accuracy: 0.8708 - val_loss: 0.3125\n",
            "Epoch 8/15\n",
            "\u001b[1m157/157\u001b[0m \u001b[32m━━━━━━━━━━━━━━━━━━━━\u001b[0m\u001b[37m\u001b[0m \u001b[1m36s\u001b[0m 231ms/step - accuracy: 0.8712 - loss: 0.2992 - val_accuracy: 0.8672 - val_loss: 0.3055\n",
            "Epoch 9/15\n",
            "\u001b[1m157/157\u001b[0m \u001b[32m━━━━━━━━━━━━━━━━━━━━\u001b[0m\u001b[37m\u001b[0m \u001b[1m36s\u001b[0m 226ms/step - accuracy: 0.8834 - loss: 0.2769 - val_accuracy: 0.8880 - val_loss: 0.2668\n",
            "Epoch 10/15\n",
            "\u001b[1m157/157\u001b[0m \u001b[32m━━━━━━━━━━━━━━━━━━━━\u001b[0m\u001b[37m\u001b[0m \u001b[1m36s\u001b[0m 230ms/step - accuracy: 0.8941 - loss: 0.2526 - val_accuracy: 0.9016 - val_loss: 0.2490\n",
            "Epoch 11/15\n",
            "\u001b[1m157/157\u001b[0m \u001b[32m━━━━━━━━━━━━━━━━━━━━\u001b[0m\u001b[37m\u001b[0m \u001b[1m36s\u001b[0m 229ms/step - accuracy: 0.9045 - loss: 0.2273 - val_accuracy: 0.9008 - val_loss: 0.2287\n",
            "Epoch 12/15\n",
            "\u001b[1m157/157\u001b[0m \u001b[32m━━━━━━━━━━━━━━━━━━━━\u001b[0m\u001b[37m\u001b[0m \u001b[1m36s\u001b[0m 229ms/step - accuracy: 0.9157 - loss: 0.2030 - val_accuracy: 0.8964 - val_loss: 0.2837\n",
            "Epoch 13/15\n",
            "\u001b[1m157/157\u001b[0m \u001b[32m━━━━━━━━━━━━━━━━━━━━\u001b[0m\u001b[37m\u001b[0m \u001b[1m36s\u001b[0m 230ms/step - accuracy: 0.9225 - loss: 0.1916 - val_accuracy: 0.9028 - val_loss: 0.2409\n",
            "Epoch 14/15\n",
            "\u001b[1m157/157\u001b[0m \u001b[32m━━━━━━━━━━━━━━━━━━━━\u001b[0m\u001b[37m\u001b[0m \u001b[1m36s\u001b[0m 230ms/step - accuracy: 0.9255 - loss: 0.1817 - val_accuracy: 0.9044 - val_loss: 0.2322\n",
            "Epoch 15/15\n",
            "\u001b[1m157/157\u001b[0m \u001b[32m━━━━━━━━━━━━━━━━━━━━\u001b[0m\u001b[37m\u001b[0m \u001b[1m36s\u001b[0m 229ms/step - accuracy: 0.9266 - loss: 0.1702 - val_accuracy: 0.8964 - val_loss: 0.2625\n"
          ]
        },
        {
          "output_type": "execute_result",
          "data": {
            "text/plain": [
              "<keras.src.callbacks.history.History at 0x7f287069d210>"
            ]
          },
          "metadata": {},
          "execution_count": 30
        }
      ],
      "source": [
        "model.fit(train_generator,\n",
        "          epochs=15,\n",
        "          validation_data=val_generator)"
      ]
    },
    {
      "cell_type": "code",
      "source": [
        "try:\n",
        "    # Try accessing the model's input tensor if build worked correctly\n",
        "    # (This is what *should* work)\n",
        "    model_input_tensor = model.input\n",
        "    if model_input_tensor is None: # Check if it's None\n",
        "         raise AttributeError # Force fallback if None\n",
        "    print(\"Using model.input\")\n",
        "except AttributeError:\n",
        "    try:\n",
        "        # Fallback: If Input() is the first layer *in the list*:\n",
        "        model_input_tensor = model.layers[0].output\n",
        "        print(\"Using model.layers[0].output\")\n",
        "         # This might actually get the output of the *first Conv layer* if Input isn't counted\n",
        "         # Need to be careful. Let's try model.inputs list\n",
        "        if isinstance(model.inputs, list) and len(model.inputs) > 0:\n",
        "             model_input_tensor = model.inputs[0]\n",
        "             print(\"Using model.inputs[0]\")\n",
        "        else:\n",
        "             # If the above fail, maybe the input layer NAME works?\n",
        "             model_input_tensor = model.get_layer(index=0).output # Try getting layer 0 output by index\n",
        "             print(\"Using model.get_layer(index=0).output\")\n",
        "\n",
        "    except Exception as e:\n",
        "        print(f\"Error getting input tensor: {e}\")\n",
        "        print(\"Could not reliably determine the input tensor. Consider defining Input() outside the Sequential list.\")\n",
        "        # Handle error appropriately - maybe exit or raise\n",
        "        raise ValueError(\"Cannot find the input tensor for the feature extractor.\") from e\n",
        "\n",
        "\n",
        "# Identify the target layer by name (more robust)\n",
        "target_layer_name = 'final_pool_layer'\n",
        "target_output = model.get_layer(target_layer_name).output\n",
        "\n",
        "# Create a new Model using the input tensor we found\n",
        "feature_extractor_model = Model(inputs=model_input_tensor, outputs=target_output, name=\"feature_extractor\")\n",
        "\n",
        "print(\"\\n--- Feature Extractor Model Summary ---\")\n",
        "# Need to build the extractor model too before summary sometimes\n",
        "feature_extractor_model.build(input_shape=(None,) + input_shape)\n",
        "feature_extractor_model.summary()\n",
        "\n",
        "# --- How to Use It (remains the same) ---\n",
        "\n",
        "def load_and_preprocess_image(image_path, target_shape):\n",
        "    img = tf.keras.preprocessing.image.load_img(image_path, target_size=target_shape[:2])\n",
        "    img_array = tf.keras.preprocessing.image.img_to_array(img)\n",
        "    img_array = np.expand_dims(img_array, axis=0)\n",
        "    img_array = img_array / 255.0\n",
        "    return img_array\n",
        "\n",
        "image_path = '/kaggle/split_data/test/Cat/100.jpg'\n",
        "try:\n",
        "    # Create a dummy image if needed for testing:\n",
        "    dummy_data = np.random.rand(input_shape[0], input_shape[1], input_shape[2]) * 255\n",
        "    tf.keras.preprocessing.image.save_img(image_path, dummy_data)\n",
        "except Exception as e:\n",
        "    print(f\"Could not create dummy image: {e}. Please provide a real image path.\")\n",
        "    exit()\n",
        "\n",
        "\n",
        "preprocessed_image = load_and_preprocess_image(image_path, input_shape)\n",
        "\n",
        "# Use the feature_extractor_model to get the feature map\n",
        "feature_map = feature_extractor_model.predict(preprocessed_image)\n",
        "\n",
        "print(f\"\\nShape of extracted feature map: {feature_map.shape}\")\n",
        "\n",
        "# Clean up dummy image if created\n",
        "import os\n",
        "if os.path.exists(image_path):\n",
        "    try:\n",
        "        os.remove(image_path)\n",
        "    except OSError as e:\n",
        "        print(f\"Error removing dummy image: {e}\")\n",
        "\"\"\"\n",
        "0 conv2d_56 N/A\n",
        "1 conv2d_57 N/A\n",
        "2 max_pooling2d_23 N/A\n",
        "3 dropout_35 N/A\n",
        "4 conv2d_58 N/A\n",
        "5 conv2d_59 N/A\n",
        "6 max_pooling2d_24 N/A\n",
        "7 dropout_36 N/A\n",
        "8 conv2d_60 N/A\n",
        "9 conv2d_61 N/A\n",
        "10 max_pooling2d_25 N/A\n",
        "11 dropout_37 N/A\n",
        "12 conv2d_62 N/A\n",
        "13 conv2d_63 N/A\n",
        "14 final_pool_layer N/A\n",
        "\"\"\""
      ],
      "metadata": {
        "colab": {
          "base_uri": "https://localhost:8080/",
          "height": 840
        },
        "id": "ViMJvBJD2kHR",
        "outputId": "79244bfb-e713-474e-ba5b-935f07b036df"
      },
      "execution_count": 41,
      "outputs": [
        {
          "output_type": "stream",
          "name": "stdout",
          "text": [
            "Using model.layers[0].output\n",
            "Using model.inputs[0]\n",
            "\n",
            "--- Feature Extractor Model Summary ---\n"
          ]
        },
        {
          "output_type": "display_data",
          "data": {
            "text/plain": [
              "\u001b[1mModel: \"feature_extractor\"\u001b[0m\n"
            ],
            "text/html": [
              "<pre style=\"white-space:pre;overflow-x:auto;line-height:normal;font-family:Menlo,'DejaVu Sans Mono',consolas,'Courier New',monospace\"><span style=\"font-weight: bold\">Model: \"feature_extractor\"</span>\n",
              "</pre>\n"
            ]
          },
          "metadata": {}
        },
        {
          "output_type": "display_data",
          "data": {
            "text/plain": [
              "┏━━━━━━━━━━━━━━━━━━━━━━━━━━━━━━━━━┳━━━━━━━━━━━━━━━━━━━━━━━━┳━━━━━━━━━━━━━━━┓\n",
              "┃\u001b[1m \u001b[0m\u001b[1mLayer (type)                   \u001b[0m\u001b[1m \u001b[0m┃\u001b[1m \u001b[0m\u001b[1mOutput Shape          \u001b[0m\u001b[1m \u001b[0m┃\u001b[1m \u001b[0m\u001b[1m      Param #\u001b[0m\u001b[1m \u001b[0m┃\n",
              "┡━━━━━━━━━━━━━━━━━━━━━━━━━━━━━━━━━╇━━━━━━━━━━━━━━━━━━━━━━━━╇━━━━━━━━━━━━━━━┩\n",
              "│ input_layer_7 (\u001b[38;5;33mInputLayer\u001b[0m)      │ (\u001b[38;5;45mNone\u001b[0m, \u001b[38;5;34m128\u001b[0m, \u001b[38;5;34m128\u001b[0m, \u001b[38;5;34m3\u001b[0m)    │             \u001b[38;5;34m0\u001b[0m │\n",
              "├─────────────────────────────────┼────────────────────────┼───────────────┤\n",
              "│ conv2d_56 (\u001b[38;5;33mConv2D\u001b[0m)              │ (\u001b[38;5;45mNone\u001b[0m, \u001b[38;5;34m126\u001b[0m, \u001b[38;5;34m126\u001b[0m, \u001b[38;5;34m32\u001b[0m)   │           \u001b[38;5;34m896\u001b[0m │\n",
              "├─────────────────────────────────┼────────────────────────┼───────────────┤\n",
              "│ conv2d_57 (\u001b[38;5;33mConv2D\u001b[0m)              │ (\u001b[38;5;45mNone\u001b[0m, \u001b[38;5;34m124\u001b[0m, \u001b[38;5;34m124\u001b[0m, \u001b[38;5;34m32\u001b[0m)   │         \u001b[38;5;34m9,248\u001b[0m │\n",
              "├─────────────────────────────────┼────────────────────────┼───────────────┤\n",
              "│ max_pooling2d_23 (\u001b[38;5;33mMaxPooling2D\u001b[0m) │ (\u001b[38;5;45mNone\u001b[0m, \u001b[38;5;34m62\u001b[0m, \u001b[38;5;34m62\u001b[0m, \u001b[38;5;34m32\u001b[0m)     │             \u001b[38;5;34m0\u001b[0m │\n",
              "├─────────────────────────────────┼────────────────────────┼───────────────┤\n",
              "│ dropout_35 (\u001b[38;5;33mDropout\u001b[0m)            │ (\u001b[38;5;45mNone\u001b[0m, \u001b[38;5;34m62\u001b[0m, \u001b[38;5;34m62\u001b[0m, \u001b[38;5;34m32\u001b[0m)     │             \u001b[38;5;34m0\u001b[0m │\n",
              "├─────────────────────────────────┼────────────────────────┼───────────────┤\n",
              "│ conv2d_58 (\u001b[38;5;33mConv2D\u001b[0m)              │ (\u001b[38;5;45mNone\u001b[0m, \u001b[38;5;34m60\u001b[0m, \u001b[38;5;34m60\u001b[0m, \u001b[38;5;34m64\u001b[0m)     │        \u001b[38;5;34m18,496\u001b[0m │\n",
              "├─────────────────────────────────┼────────────────────────┼───────────────┤\n",
              "│ conv2d_59 (\u001b[38;5;33mConv2D\u001b[0m)              │ (\u001b[38;5;45mNone\u001b[0m, \u001b[38;5;34m58\u001b[0m, \u001b[38;5;34m58\u001b[0m, \u001b[38;5;34m64\u001b[0m)     │        \u001b[38;5;34m36,928\u001b[0m │\n",
              "├─────────────────────────────────┼────────────────────────┼───────────────┤\n",
              "│ max_pooling2d_24 (\u001b[38;5;33mMaxPooling2D\u001b[0m) │ (\u001b[38;5;45mNone\u001b[0m, \u001b[38;5;34m29\u001b[0m, \u001b[38;5;34m29\u001b[0m, \u001b[38;5;34m64\u001b[0m)     │             \u001b[38;5;34m0\u001b[0m │\n",
              "├─────────────────────────────────┼────────────────────────┼───────────────┤\n",
              "│ dropout_36 (\u001b[38;5;33mDropout\u001b[0m)            │ (\u001b[38;5;45mNone\u001b[0m, \u001b[38;5;34m29\u001b[0m, \u001b[38;5;34m29\u001b[0m, \u001b[38;5;34m64\u001b[0m)     │             \u001b[38;5;34m0\u001b[0m │\n",
              "├─────────────────────────────────┼────────────────────────┼───────────────┤\n",
              "│ conv2d_60 (\u001b[38;5;33mConv2D\u001b[0m)              │ (\u001b[38;5;45mNone\u001b[0m, \u001b[38;5;34m27\u001b[0m, \u001b[38;5;34m27\u001b[0m, \u001b[38;5;34m128\u001b[0m)    │        \u001b[38;5;34m73,856\u001b[0m │\n",
              "├─────────────────────────────────┼────────────────────────┼───────────────┤\n",
              "│ conv2d_61 (\u001b[38;5;33mConv2D\u001b[0m)              │ (\u001b[38;5;45mNone\u001b[0m, \u001b[38;5;34m25\u001b[0m, \u001b[38;5;34m25\u001b[0m, \u001b[38;5;34m128\u001b[0m)    │       \u001b[38;5;34m147,584\u001b[0m │\n",
              "├─────────────────────────────────┼────────────────────────┼───────────────┤\n",
              "│ max_pooling2d_25 (\u001b[38;5;33mMaxPooling2D\u001b[0m) │ (\u001b[38;5;45mNone\u001b[0m, \u001b[38;5;34m12\u001b[0m, \u001b[38;5;34m12\u001b[0m, \u001b[38;5;34m128\u001b[0m)    │             \u001b[38;5;34m0\u001b[0m │\n",
              "├─────────────────────────────────┼────────────────────────┼───────────────┤\n",
              "│ dropout_37 (\u001b[38;5;33mDropout\u001b[0m)            │ (\u001b[38;5;45mNone\u001b[0m, \u001b[38;5;34m12\u001b[0m, \u001b[38;5;34m12\u001b[0m, \u001b[38;5;34m128\u001b[0m)    │             \u001b[38;5;34m0\u001b[0m │\n",
              "├─────────────────────────────────┼────────────────────────┼───────────────┤\n",
              "│ conv2d_62 (\u001b[38;5;33mConv2D\u001b[0m)              │ (\u001b[38;5;45mNone\u001b[0m, \u001b[38;5;34m10\u001b[0m, \u001b[38;5;34m10\u001b[0m, \u001b[38;5;34m256\u001b[0m)    │       \u001b[38;5;34m295,168\u001b[0m │\n",
              "├─────────────────────────────────┼────────────────────────┼───────────────┤\n",
              "│ conv2d_63 (\u001b[38;5;33mConv2D\u001b[0m)              │ (\u001b[38;5;45mNone\u001b[0m, \u001b[38;5;34m8\u001b[0m, \u001b[38;5;34m8\u001b[0m, \u001b[38;5;34m256\u001b[0m)      │       \u001b[38;5;34m590,080\u001b[0m │\n",
              "├─────────────────────────────────┼────────────────────────┼───────────────┤\n",
              "│ final_pool_layer (\u001b[38;5;33mMaxPooling2D\u001b[0m) │ (\u001b[38;5;45mNone\u001b[0m, \u001b[38;5;34m4\u001b[0m, \u001b[38;5;34m4\u001b[0m, \u001b[38;5;34m256\u001b[0m)      │             \u001b[38;5;34m0\u001b[0m │\n",
              "└─────────────────────────────────┴────────────────────────┴───────────────┘\n"
            ],
            "text/html": [
              "<pre style=\"white-space:pre;overflow-x:auto;line-height:normal;font-family:Menlo,'DejaVu Sans Mono',consolas,'Courier New',monospace\">┏━━━━━━━━━━━━━━━━━━━━━━━━━━━━━━━━━┳━━━━━━━━━━━━━━━━━━━━━━━━┳━━━━━━━━━━━━━━━┓\n",
              "┃<span style=\"font-weight: bold\"> Layer (type)                    </span>┃<span style=\"font-weight: bold\"> Output Shape           </span>┃<span style=\"font-weight: bold\">       Param # </span>┃\n",
              "┡━━━━━━━━━━━━━━━━━━━━━━━━━━━━━━━━━╇━━━━━━━━━━━━━━━━━━━━━━━━╇━━━━━━━━━━━━━━━┩\n",
              "│ input_layer_7 (<span style=\"color: #0087ff; text-decoration-color: #0087ff\">InputLayer</span>)      │ (<span style=\"color: #00d7ff; text-decoration-color: #00d7ff\">None</span>, <span style=\"color: #00af00; text-decoration-color: #00af00\">128</span>, <span style=\"color: #00af00; text-decoration-color: #00af00\">128</span>, <span style=\"color: #00af00; text-decoration-color: #00af00\">3</span>)    │             <span style=\"color: #00af00; text-decoration-color: #00af00\">0</span> │\n",
              "├─────────────────────────────────┼────────────────────────┼───────────────┤\n",
              "│ conv2d_56 (<span style=\"color: #0087ff; text-decoration-color: #0087ff\">Conv2D</span>)              │ (<span style=\"color: #00d7ff; text-decoration-color: #00d7ff\">None</span>, <span style=\"color: #00af00; text-decoration-color: #00af00\">126</span>, <span style=\"color: #00af00; text-decoration-color: #00af00\">126</span>, <span style=\"color: #00af00; text-decoration-color: #00af00\">32</span>)   │           <span style=\"color: #00af00; text-decoration-color: #00af00\">896</span> │\n",
              "├─────────────────────────────────┼────────────────────────┼───────────────┤\n",
              "│ conv2d_57 (<span style=\"color: #0087ff; text-decoration-color: #0087ff\">Conv2D</span>)              │ (<span style=\"color: #00d7ff; text-decoration-color: #00d7ff\">None</span>, <span style=\"color: #00af00; text-decoration-color: #00af00\">124</span>, <span style=\"color: #00af00; text-decoration-color: #00af00\">124</span>, <span style=\"color: #00af00; text-decoration-color: #00af00\">32</span>)   │         <span style=\"color: #00af00; text-decoration-color: #00af00\">9,248</span> │\n",
              "├─────────────────────────────────┼────────────────────────┼───────────────┤\n",
              "│ max_pooling2d_23 (<span style=\"color: #0087ff; text-decoration-color: #0087ff\">MaxPooling2D</span>) │ (<span style=\"color: #00d7ff; text-decoration-color: #00d7ff\">None</span>, <span style=\"color: #00af00; text-decoration-color: #00af00\">62</span>, <span style=\"color: #00af00; text-decoration-color: #00af00\">62</span>, <span style=\"color: #00af00; text-decoration-color: #00af00\">32</span>)     │             <span style=\"color: #00af00; text-decoration-color: #00af00\">0</span> │\n",
              "├─────────────────────────────────┼────────────────────────┼───────────────┤\n",
              "│ dropout_35 (<span style=\"color: #0087ff; text-decoration-color: #0087ff\">Dropout</span>)            │ (<span style=\"color: #00d7ff; text-decoration-color: #00d7ff\">None</span>, <span style=\"color: #00af00; text-decoration-color: #00af00\">62</span>, <span style=\"color: #00af00; text-decoration-color: #00af00\">62</span>, <span style=\"color: #00af00; text-decoration-color: #00af00\">32</span>)     │             <span style=\"color: #00af00; text-decoration-color: #00af00\">0</span> │\n",
              "├─────────────────────────────────┼────────────────────────┼───────────────┤\n",
              "│ conv2d_58 (<span style=\"color: #0087ff; text-decoration-color: #0087ff\">Conv2D</span>)              │ (<span style=\"color: #00d7ff; text-decoration-color: #00d7ff\">None</span>, <span style=\"color: #00af00; text-decoration-color: #00af00\">60</span>, <span style=\"color: #00af00; text-decoration-color: #00af00\">60</span>, <span style=\"color: #00af00; text-decoration-color: #00af00\">64</span>)     │        <span style=\"color: #00af00; text-decoration-color: #00af00\">18,496</span> │\n",
              "├─────────────────────────────────┼────────────────────────┼───────────────┤\n",
              "│ conv2d_59 (<span style=\"color: #0087ff; text-decoration-color: #0087ff\">Conv2D</span>)              │ (<span style=\"color: #00d7ff; text-decoration-color: #00d7ff\">None</span>, <span style=\"color: #00af00; text-decoration-color: #00af00\">58</span>, <span style=\"color: #00af00; text-decoration-color: #00af00\">58</span>, <span style=\"color: #00af00; text-decoration-color: #00af00\">64</span>)     │        <span style=\"color: #00af00; text-decoration-color: #00af00\">36,928</span> │\n",
              "├─────────────────────────────────┼────────────────────────┼───────────────┤\n",
              "│ max_pooling2d_24 (<span style=\"color: #0087ff; text-decoration-color: #0087ff\">MaxPooling2D</span>) │ (<span style=\"color: #00d7ff; text-decoration-color: #00d7ff\">None</span>, <span style=\"color: #00af00; text-decoration-color: #00af00\">29</span>, <span style=\"color: #00af00; text-decoration-color: #00af00\">29</span>, <span style=\"color: #00af00; text-decoration-color: #00af00\">64</span>)     │             <span style=\"color: #00af00; text-decoration-color: #00af00\">0</span> │\n",
              "├─────────────────────────────────┼────────────────────────┼───────────────┤\n",
              "│ dropout_36 (<span style=\"color: #0087ff; text-decoration-color: #0087ff\">Dropout</span>)            │ (<span style=\"color: #00d7ff; text-decoration-color: #00d7ff\">None</span>, <span style=\"color: #00af00; text-decoration-color: #00af00\">29</span>, <span style=\"color: #00af00; text-decoration-color: #00af00\">29</span>, <span style=\"color: #00af00; text-decoration-color: #00af00\">64</span>)     │             <span style=\"color: #00af00; text-decoration-color: #00af00\">0</span> │\n",
              "├─────────────────────────────────┼────────────────────────┼───────────────┤\n",
              "│ conv2d_60 (<span style=\"color: #0087ff; text-decoration-color: #0087ff\">Conv2D</span>)              │ (<span style=\"color: #00d7ff; text-decoration-color: #00d7ff\">None</span>, <span style=\"color: #00af00; text-decoration-color: #00af00\">27</span>, <span style=\"color: #00af00; text-decoration-color: #00af00\">27</span>, <span style=\"color: #00af00; text-decoration-color: #00af00\">128</span>)    │        <span style=\"color: #00af00; text-decoration-color: #00af00\">73,856</span> │\n",
              "├─────────────────────────────────┼────────────────────────┼───────────────┤\n",
              "│ conv2d_61 (<span style=\"color: #0087ff; text-decoration-color: #0087ff\">Conv2D</span>)              │ (<span style=\"color: #00d7ff; text-decoration-color: #00d7ff\">None</span>, <span style=\"color: #00af00; text-decoration-color: #00af00\">25</span>, <span style=\"color: #00af00; text-decoration-color: #00af00\">25</span>, <span style=\"color: #00af00; text-decoration-color: #00af00\">128</span>)    │       <span style=\"color: #00af00; text-decoration-color: #00af00\">147,584</span> │\n",
              "├─────────────────────────────────┼────────────────────────┼───────────────┤\n",
              "│ max_pooling2d_25 (<span style=\"color: #0087ff; text-decoration-color: #0087ff\">MaxPooling2D</span>) │ (<span style=\"color: #00d7ff; text-decoration-color: #00d7ff\">None</span>, <span style=\"color: #00af00; text-decoration-color: #00af00\">12</span>, <span style=\"color: #00af00; text-decoration-color: #00af00\">12</span>, <span style=\"color: #00af00; text-decoration-color: #00af00\">128</span>)    │             <span style=\"color: #00af00; text-decoration-color: #00af00\">0</span> │\n",
              "├─────────────────────────────────┼────────────────────────┼───────────────┤\n",
              "│ dropout_37 (<span style=\"color: #0087ff; text-decoration-color: #0087ff\">Dropout</span>)            │ (<span style=\"color: #00d7ff; text-decoration-color: #00d7ff\">None</span>, <span style=\"color: #00af00; text-decoration-color: #00af00\">12</span>, <span style=\"color: #00af00; text-decoration-color: #00af00\">12</span>, <span style=\"color: #00af00; text-decoration-color: #00af00\">128</span>)    │             <span style=\"color: #00af00; text-decoration-color: #00af00\">0</span> │\n",
              "├─────────────────────────────────┼────────────────────────┼───────────────┤\n",
              "│ conv2d_62 (<span style=\"color: #0087ff; text-decoration-color: #0087ff\">Conv2D</span>)              │ (<span style=\"color: #00d7ff; text-decoration-color: #00d7ff\">None</span>, <span style=\"color: #00af00; text-decoration-color: #00af00\">10</span>, <span style=\"color: #00af00; text-decoration-color: #00af00\">10</span>, <span style=\"color: #00af00; text-decoration-color: #00af00\">256</span>)    │       <span style=\"color: #00af00; text-decoration-color: #00af00\">295,168</span> │\n",
              "├─────────────────────────────────┼────────────────────────┼───────────────┤\n",
              "│ conv2d_63 (<span style=\"color: #0087ff; text-decoration-color: #0087ff\">Conv2D</span>)              │ (<span style=\"color: #00d7ff; text-decoration-color: #00d7ff\">None</span>, <span style=\"color: #00af00; text-decoration-color: #00af00\">8</span>, <span style=\"color: #00af00; text-decoration-color: #00af00\">8</span>, <span style=\"color: #00af00; text-decoration-color: #00af00\">256</span>)      │       <span style=\"color: #00af00; text-decoration-color: #00af00\">590,080</span> │\n",
              "├─────────────────────────────────┼────────────────────────┼───────────────┤\n",
              "│ final_pool_layer (<span style=\"color: #0087ff; text-decoration-color: #0087ff\">MaxPooling2D</span>) │ (<span style=\"color: #00d7ff; text-decoration-color: #00d7ff\">None</span>, <span style=\"color: #00af00; text-decoration-color: #00af00\">4</span>, <span style=\"color: #00af00; text-decoration-color: #00af00\">4</span>, <span style=\"color: #00af00; text-decoration-color: #00af00\">256</span>)      │             <span style=\"color: #00af00; text-decoration-color: #00af00\">0</span> │\n",
              "└─────────────────────────────────┴────────────────────────┴───────────────┘\n",
              "</pre>\n"
            ]
          },
          "metadata": {}
        },
        {
          "output_type": "display_data",
          "data": {
            "text/plain": [
              "\u001b[1m Total params: \u001b[0m\u001b[38;5;34m1,172,256\u001b[0m (4.47 MB)\n"
            ],
            "text/html": [
              "<pre style=\"white-space:pre;overflow-x:auto;line-height:normal;font-family:Menlo,'DejaVu Sans Mono',consolas,'Courier New',monospace\"><span style=\"font-weight: bold\"> Total params: </span><span style=\"color: #00af00; text-decoration-color: #00af00\">1,172,256</span> (4.47 MB)\n",
              "</pre>\n"
            ]
          },
          "metadata": {}
        },
        {
          "output_type": "display_data",
          "data": {
            "text/plain": [
              "\u001b[1m Trainable params: \u001b[0m\u001b[38;5;34m1,172,256\u001b[0m (4.47 MB)\n"
            ],
            "text/html": [
              "<pre style=\"white-space:pre;overflow-x:auto;line-height:normal;font-family:Menlo,'DejaVu Sans Mono',consolas,'Courier New',monospace\"><span style=\"font-weight: bold\"> Trainable params: </span><span style=\"color: #00af00; text-decoration-color: #00af00\">1,172,256</span> (4.47 MB)\n",
              "</pre>\n"
            ]
          },
          "metadata": {}
        },
        {
          "output_type": "display_data",
          "data": {
            "text/plain": [
              "\u001b[1m Non-trainable params: \u001b[0m\u001b[38;5;34m0\u001b[0m (0.00 B)\n"
            ],
            "text/html": [
              "<pre style=\"white-space:pre;overflow-x:auto;line-height:normal;font-family:Menlo,'DejaVu Sans Mono',consolas,'Courier New',monospace\"><span style=\"font-weight: bold\"> Non-trainable params: </span><span style=\"color: #00af00; text-decoration-color: #00af00\">0</span> (0.00 B)\n",
              "</pre>\n"
            ]
          },
          "metadata": {}
        },
        {
          "output_type": "stream",
          "name": "stdout",
          "text": [
            "\u001b[1m1/1\u001b[0m \u001b[32m━━━━━━━━━━━━━━━━━━━━\u001b[0m\u001b[37m\u001b[0m \u001b[1m0s\u001b[0m 386ms/step\n",
            "\n",
            "Shape of extracted feature map: (1, 4, 4, 256)\n"
          ]
        },
        {
          "output_type": "execute_result",
          "data": {
            "text/plain": [
              "'\\n0 conv2d_56 N/A\\n1 conv2d_57 N/A\\n2 max_pooling2d_23 N/A\\n3 dropout_35 N/A\\n4 conv2d_58 N/A\\n5 conv2d_59 N/A\\n6 max_pooling2d_24 N/A\\n7 dropout_36 N/A\\n8 conv2d_60 N/A\\n9 conv2d_61 N/A\\n10 max_pooling2d_25 N/A\\n11 dropout_37 N/A\\n12 conv2d_62 N/A\\n13 conv2d_63 N/A\\n14 final_pool_layer N/A\\n'"
            ],
            "application/vnd.google.colaboratory.intrinsic+json": {
              "type": "string"
            }
          },
          "metadata": {},
          "execution_count": 41
        }
      ]
    },
    {
      "cell_type": "code",
      "source": [
        "print(f\"\\nExtracted feature map: {feature_map}\")\n",
        "\n",
        "import numpy as np\n",
        "import os # For checking file existence\n",
        "import sys\n",
        "\n",
        "log_filename = \"inference_log.txt\"\n",
        "print(f\"Attempting to write feature map details to '{log_filename}'...\")\n",
        "\n",
        "\n",
        "# Make sure feature_map exists before proceeding\n",
        "if 'feature_map' not in locals() and 'feature_map' not in globals():\n",
        "    print(\"Error: 'feature_map' variable not found. Please ensure it was generated.\")\n",
        "else:\n",
        "    # --- WARNING ---\n",
        "    total_elements = np.prod(feature_map.shape)\n",
        "    print(f\"[WARNING] Feature map has {total_elements} elements.\")\n",
        "    if total_elements > 10000: # Arbitrary threshold for warning\n",
        "        print(f\"[WARNING] Writing all elements might create a very large log file (> {total_elements * 5 // 1024} KB approx) and could be slow.\")\n",
        "    # -------------\n",
        "\n",
        "    try:\n",
        "        with open(log_filename, 'w') as log_file: # Use 'w' to overwrite each time for full logs\n",
        "            log_file.write(\"--- Full Extracted Feature Map ---\\n\")\n",
        "            log_file.write(f\"Timestamp: {np.datetime64('now')}\\n\")\n",
        "            log_file.write(f\"Shape: {feature_map.shape}\\n\")\n",
        "            log_file.write(f\"Data Type: {feature_map.dtype}\\n\")\n",
        "            log_file.write(f\"Min value: {np.min(feature_map)}\\n\")\n",
        "            log_file.write(f\"Max value: {np.max(feature_map)}\\n\")\n",
        "            log_file.write(f\"Mean value: {np.mean(feature_map)}\\n\")\n",
        "            log_file.write(f\"Std Dev: {np.std(feature_map)}\\n\")\n",
        "            log_file.write(\"\\nFeature Map Content (Full):\\n\")\n",
        "\n",
        "            # Option 2 (Modified): Write the FULL array content\n",
        "            # Use threshold=sys.maxsize or np.inf to disable summarization\n",
        "            feature_map_string = np.array2string(\n",
        "                feature_map,\n",
        "                precision=6,          # Increase precision if needed\n",
        "                suppress_small=False, # Show small numbers accurately\n",
        "                max_line_width=150,   # Wider lines might help for large arrays\n",
        "                threshold=sys.maxsize # Force printing the entire array\n",
        "                # threshold=np.inf   # Alternative way to force printing all\n",
        "            )\n",
        "            log_file.write(feature_map_string)\n",
        "\n",
        "            log_file.write(\"\\n--- End Full Feature Map ---\\n\")\n",
        "\n",
        "        print(f\"Successfully wrote FULL feature map to '{log_filename}'\")\n",
        "\n",
        "    except Exception as e:\n",
        "        print(f\"Error writing to log file '{log_filename}': {e}\")"
      ],
      "metadata": {
        "colab": {
          "base_uri": "https://localhost:8080/"
        },
        "id": "aNOCQxMlBGff",
        "outputId": "429d1b81-7bc9-43c6-8bc6-f189343ceac8"
      },
      "execution_count": 45,
      "outputs": [
        {
          "output_type": "stream",
          "name": "stdout",
          "text": [
            "\n",
            "Extracted feature map: [[[[0. 0. 0. ... 0. 0. 0.]\n",
            "   [0. 0. 0. ... 0. 0. 0.]\n",
            "   [0. 0. 0. ... 0. 0. 0.]\n",
            "   [0. 0. 0. ... 0. 0. 0.]]\n",
            "\n",
            "  [[0. 0. 0. ... 0. 0. 0.]\n",
            "   [0. 0. 0. ... 0. 0. 0.]\n",
            "   [0. 0. 0. ... 0. 0. 0.]\n",
            "   [0. 0. 0. ... 0. 0. 0.]]\n",
            "\n",
            "  [[0. 0. 0. ... 0. 0. 0.]\n",
            "   [0. 0. 0. ... 0. 0. 0.]\n",
            "   [0. 0. 0. ... 0. 0. 0.]\n",
            "   [0. 0. 0. ... 0. 0. 0.]]\n",
            "\n",
            "  [[0. 0. 0. ... 0. 0. 0.]\n",
            "   [0. 0. 0. ... 0. 0. 0.]\n",
            "   [0. 0. 0. ... 0. 0. 0.]\n",
            "   [0. 0. 0. ... 0. 0. 0.]]]]\n",
            "Attempting to write feature map details to 'inference_log.txt'...\n",
            "[WARNING] Feature map has 4096 elements.\n",
            "Successfully wrote FULL feature map to 'inference_log.txt'\n"
          ]
        }
      ]
    },
    {
      "cell_type": "code",
      "source": [
        "# --- 1. Create the \"Classifier Head\" Model ---\n",
        "\n",
        "# Find the index of the layer RIGHT AFTER our feature extraction layer ('final_pool_layer')\n",
        "# This is where the classifier head starts.\n",
        "feature_layer_name = 'final_pool_layer'\n",
        "try:\n",
        "    # Find the index of the layer by name\n",
        "    feature_layer_index = [i for i, layer in enumerate(model.layers) if layer.name == feature_layer_name][0]\n",
        "    classifier_start_index = feature_layer_index + 1\n",
        "    print(f\"Feature extraction layer ('{feature_layer_name}') index: {feature_layer_index}\")\n",
        "    print(f\"Classifier head starts at layer index: {classifier_start_index}\")\n",
        "except IndexError:\n",
        "    print(f\"Error: Could not find layer named '{feature_layer_name}' in the original model.\")\n",
        "    # Handle error appropriately\n",
        "    exit()\n",
        "except Exception as e:\n",
        "    print(f\"An error occurred finding the layer index: {e}\")\n",
        "    exit()\n",
        "\n",
        "\n",
        "# Define an Input layer matching the shape of the feature map (excluding batch dimension)\n",
        "feature_map_shape = feature_map.shape[1:] # e.g., (8, 8, 256)\n",
        "classifier_input = Input(shape=feature_map_shape, name=\"feature_map_input\")\n",
        "\n",
        "# Sequentially connect the *remaining layers* from the original model\n",
        "# Start from the layer AFTER the feature extraction layer\n",
        "x = classifier_input\n",
        "for i in range(classifier_start_index, len(model.layers)):\n",
        "    # Apply the original layer (which has the trained weights) to the current tensor 'x'\n",
        "    original_layer = model.layers[i]\n",
        "    x = original_layer(x, training=False)\n",
        "    print(f\"Added layer {i}: {original_layer.name}\")\n",
        "\n",
        "# Create the new model\n",
        "classifier_model = Model(inputs=classifier_input, outputs=x, name=\"classifier_head\")\n",
        "\n",
        "print(\"\\n--- Classifier Head Model Summary ---\")\n",
        "classifier_model.summary()\n",
        "\n",
        "\"\"\"\n",
        "15 dropout_33 N/A\n",
        "16 flatten_6 N/A\n",
        "17 dense_18 N/A\n",
        "18 dense_19 N/A\n",
        "19 dropout_34 N/A\n",
        "20 dense_20 N/A\n",
        "\"\"\""
      ],
      "metadata": {
        "colab": {
          "base_uri": "https://localhost:8080/",
          "height": 560
        },
        "id": "5EKGHNyn5qzw",
        "outputId": "0aafa970-6c3e-4dc2-dd40-25b05d7494f3"
      },
      "execution_count": 37,
      "outputs": [
        {
          "output_type": "stream",
          "name": "stdout",
          "text": [
            "Feature extraction layer ('final_pool_layer') index: 14\n",
            "Classifier head starts at layer index: 15\n",
            "Added layer 15: dropout_38\n",
            "Added layer 16: flatten_7\n",
            "Added layer 17: dense_21\n",
            "Added layer 18: dense_22\n",
            "Added layer 19: dropout_39\n",
            "Added layer 20: dense_23\n",
            "\n",
            "--- Classifier Head Model Summary ---\n"
          ]
        },
        {
          "output_type": "display_data",
          "data": {
            "text/plain": [
              "\u001b[1mModel: \"classifier_head\"\u001b[0m\n"
            ],
            "text/html": [
              "<pre style=\"white-space:pre;overflow-x:auto;line-height:normal;font-family:Menlo,'DejaVu Sans Mono',consolas,'Courier New',monospace\"><span style=\"font-weight: bold\">Model: \"classifier_head\"</span>\n",
              "</pre>\n"
            ]
          },
          "metadata": {}
        },
        {
          "output_type": "display_data",
          "data": {
            "text/plain": [
              "┏━━━━━━━━━━━━━━━━━━━━━━━━━━━━━━━━━┳━━━━━━━━━━━━━━━━━━━━━━━━┳━━━━━━━━━━━━━━━┓\n",
              "┃\u001b[1m \u001b[0m\u001b[1mLayer (type)                   \u001b[0m\u001b[1m \u001b[0m┃\u001b[1m \u001b[0m\u001b[1mOutput Shape          \u001b[0m\u001b[1m \u001b[0m┃\u001b[1m \u001b[0m\u001b[1m      Param #\u001b[0m\u001b[1m \u001b[0m┃\n",
              "┡━━━━━━━━━━━━━━━━━━━━━━━━━━━━━━━━━╇━━━━━━━━━━━━━━━━━━━━━━━━╇━━━━━━━━━━━━━━━┩\n",
              "│ feature_map_input (\u001b[38;5;33mInputLayer\u001b[0m)  │ (\u001b[38;5;45mNone\u001b[0m, \u001b[38;5;34m4\u001b[0m, \u001b[38;5;34m4\u001b[0m, \u001b[38;5;34m256\u001b[0m)      │             \u001b[38;5;34m0\u001b[0m │\n",
              "├─────────────────────────────────┼────────────────────────┼───────────────┤\n",
              "│ dropout_38 (\u001b[38;5;33mDropout\u001b[0m)            │ (\u001b[38;5;45mNone\u001b[0m, \u001b[38;5;34m4\u001b[0m, \u001b[38;5;34m4\u001b[0m, \u001b[38;5;34m256\u001b[0m)      │             \u001b[38;5;34m0\u001b[0m │\n",
              "├─────────────────────────────────┼────────────────────────┼───────────────┤\n",
              "│ flatten_7 (\u001b[38;5;33mFlatten\u001b[0m)             │ (\u001b[38;5;45mNone\u001b[0m, \u001b[38;5;34m4096\u001b[0m)           │             \u001b[38;5;34m0\u001b[0m │\n",
              "├─────────────────────────────────┼────────────────────────┼───────────────┤\n",
              "│ dense_21 (\u001b[38;5;33mDense\u001b[0m)                │ (\u001b[38;5;45mNone\u001b[0m, \u001b[38;5;34m256\u001b[0m)            │     \u001b[38;5;34m1,048,832\u001b[0m │\n",
              "├─────────────────────────────────┼────────────────────────┼───────────────┤\n",
              "│ dense_22 (\u001b[38;5;33mDense\u001b[0m)                │ (\u001b[38;5;45mNone\u001b[0m, \u001b[38;5;34m128\u001b[0m)            │        \u001b[38;5;34m32,896\u001b[0m │\n",
              "├─────────────────────────────────┼────────────────────────┼───────────────┤\n",
              "│ dropout_39 (\u001b[38;5;33mDropout\u001b[0m)            │ (\u001b[38;5;45mNone\u001b[0m, \u001b[38;5;34m128\u001b[0m)            │             \u001b[38;5;34m0\u001b[0m │\n",
              "├─────────────────────────────────┼────────────────────────┼───────────────┤\n",
              "│ dense_23 (\u001b[38;5;33mDense\u001b[0m)                │ (\u001b[38;5;45mNone\u001b[0m, \u001b[38;5;34m2\u001b[0m)              │           \u001b[38;5;34m258\u001b[0m │\n",
              "└─────────────────────────────────┴────────────────────────┴───────────────┘\n"
            ],
            "text/html": [
              "<pre style=\"white-space:pre;overflow-x:auto;line-height:normal;font-family:Menlo,'DejaVu Sans Mono',consolas,'Courier New',monospace\">┏━━━━━━━━━━━━━━━━━━━━━━━━━━━━━━━━━┳━━━━━━━━━━━━━━━━━━━━━━━━┳━━━━━━━━━━━━━━━┓\n",
              "┃<span style=\"font-weight: bold\"> Layer (type)                    </span>┃<span style=\"font-weight: bold\"> Output Shape           </span>┃<span style=\"font-weight: bold\">       Param # </span>┃\n",
              "┡━━━━━━━━━━━━━━━━━━━━━━━━━━━━━━━━━╇━━━━━━━━━━━━━━━━━━━━━━━━╇━━━━━━━━━━━━━━━┩\n",
              "│ feature_map_input (<span style=\"color: #0087ff; text-decoration-color: #0087ff\">InputLayer</span>)  │ (<span style=\"color: #00d7ff; text-decoration-color: #00d7ff\">None</span>, <span style=\"color: #00af00; text-decoration-color: #00af00\">4</span>, <span style=\"color: #00af00; text-decoration-color: #00af00\">4</span>, <span style=\"color: #00af00; text-decoration-color: #00af00\">256</span>)      │             <span style=\"color: #00af00; text-decoration-color: #00af00\">0</span> │\n",
              "├─────────────────────────────────┼────────────────────────┼───────────────┤\n",
              "│ dropout_38 (<span style=\"color: #0087ff; text-decoration-color: #0087ff\">Dropout</span>)            │ (<span style=\"color: #00d7ff; text-decoration-color: #00d7ff\">None</span>, <span style=\"color: #00af00; text-decoration-color: #00af00\">4</span>, <span style=\"color: #00af00; text-decoration-color: #00af00\">4</span>, <span style=\"color: #00af00; text-decoration-color: #00af00\">256</span>)      │             <span style=\"color: #00af00; text-decoration-color: #00af00\">0</span> │\n",
              "├─────────────────────────────────┼────────────────────────┼───────────────┤\n",
              "│ flatten_7 (<span style=\"color: #0087ff; text-decoration-color: #0087ff\">Flatten</span>)             │ (<span style=\"color: #00d7ff; text-decoration-color: #00d7ff\">None</span>, <span style=\"color: #00af00; text-decoration-color: #00af00\">4096</span>)           │             <span style=\"color: #00af00; text-decoration-color: #00af00\">0</span> │\n",
              "├─────────────────────────────────┼────────────────────────┼───────────────┤\n",
              "│ dense_21 (<span style=\"color: #0087ff; text-decoration-color: #0087ff\">Dense</span>)                │ (<span style=\"color: #00d7ff; text-decoration-color: #00d7ff\">None</span>, <span style=\"color: #00af00; text-decoration-color: #00af00\">256</span>)            │     <span style=\"color: #00af00; text-decoration-color: #00af00\">1,048,832</span> │\n",
              "├─────────────────────────────────┼────────────────────────┼───────────────┤\n",
              "│ dense_22 (<span style=\"color: #0087ff; text-decoration-color: #0087ff\">Dense</span>)                │ (<span style=\"color: #00d7ff; text-decoration-color: #00d7ff\">None</span>, <span style=\"color: #00af00; text-decoration-color: #00af00\">128</span>)            │        <span style=\"color: #00af00; text-decoration-color: #00af00\">32,896</span> │\n",
              "├─────────────────────────────────┼────────────────────────┼───────────────┤\n",
              "│ dropout_39 (<span style=\"color: #0087ff; text-decoration-color: #0087ff\">Dropout</span>)            │ (<span style=\"color: #00d7ff; text-decoration-color: #00d7ff\">None</span>, <span style=\"color: #00af00; text-decoration-color: #00af00\">128</span>)            │             <span style=\"color: #00af00; text-decoration-color: #00af00\">0</span> │\n",
              "├─────────────────────────────────┼────────────────────────┼───────────────┤\n",
              "│ dense_23 (<span style=\"color: #0087ff; text-decoration-color: #0087ff\">Dense</span>)                │ (<span style=\"color: #00d7ff; text-decoration-color: #00d7ff\">None</span>, <span style=\"color: #00af00; text-decoration-color: #00af00\">2</span>)              │           <span style=\"color: #00af00; text-decoration-color: #00af00\">258</span> │\n",
              "└─────────────────────────────────┴────────────────────────┴───────────────┘\n",
              "</pre>\n"
            ]
          },
          "metadata": {}
        },
        {
          "output_type": "display_data",
          "data": {
            "text/plain": [
              "\u001b[1m Total params: \u001b[0m\u001b[38;5;34m1,081,986\u001b[0m (4.13 MB)\n"
            ],
            "text/html": [
              "<pre style=\"white-space:pre;overflow-x:auto;line-height:normal;font-family:Menlo,'DejaVu Sans Mono',consolas,'Courier New',monospace\"><span style=\"font-weight: bold\"> Total params: </span><span style=\"color: #00af00; text-decoration-color: #00af00\">1,081,986</span> (4.13 MB)\n",
              "</pre>\n"
            ]
          },
          "metadata": {}
        },
        {
          "output_type": "display_data",
          "data": {
            "text/plain": [
              "\u001b[1m Trainable params: \u001b[0m\u001b[38;5;34m1,081,986\u001b[0m (4.13 MB)\n"
            ],
            "text/html": [
              "<pre style=\"white-space:pre;overflow-x:auto;line-height:normal;font-family:Menlo,'DejaVu Sans Mono',consolas,'Courier New',monospace\"><span style=\"font-weight: bold\"> Trainable params: </span><span style=\"color: #00af00; text-decoration-color: #00af00\">1,081,986</span> (4.13 MB)\n",
              "</pre>\n"
            ]
          },
          "metadata": {}
        },
        {
          "output_type": "display_data",
          "data": {
            "text/plain": [
              "\u001b[1m Non-trainable params: \u001b[0m\u001b[38;5;34m0\u001b[0m (0.00 B)\n"
            ],
            "text/html": [
              "<pre style=\"white-space:pre;overflow-x:auto;line-height:normal;font-family:Menlo,'DejaVu Sans Mono',consolas,'Courier New',monospace\"><span style=\"font-weight: bold\"> Non-trainable params: </span><span style=\"color: #00af00; text-decoration-color: #00af00\">0</span> (0.00 B)\n",
              "</pre>\n"
            ]
          },
          "metadata": {}
        },
        {
          "output_type": "execute_result",
          "data": {
            "text/plain": [
              "'\\n15 dropout_33 N/A\\n16 flatten_6 N/A\\n17 dense_18 N/A\\n18 dense_19 N/A\\n19 dropout_34 N/A\\n20 dense_20 N/A\\n'"
            ],
            "application/vnd.google.colaboratory.intrinsic+json": {
              "type": "string"
            }
          },
          "metadata": {},
          "execution_count": 37
        }
      ]
    },
    {
      "cell_type": "code",
      "source": [
        "# --- 2. Use the Classifier Head for Inference ---\n",
        "\n",
        "# IMPORTANT NOTE: In a real application, you would:\n",
        "#    a) Get feature_map from feature_extractor_model.predict()\n",
        "#    b) COMPRESS feature_map and store it.\n",
        "#    c) Later, LOAD the compressed data and DECOMPRESS it back into a numpy array (let's call it 'loaded_feature_map').\n",
        "#    d) Pass 'loaded_feature_map' to classifier_model.predict()\n",
        "\n",
        "# For this *test*, we'll use the 'feature_map' directly without the compress/decompress step\n",
        "# to verify the pipeline works.\n",
        "final_predictions = classifier_model.predict(feature_map)\n",
        "\n",
        "print(f\"\\nShape of final predictions: {final_predictions.shape}\") # Should be (1, num_classes)\n",
        "print(f\"Raw predictions (probabilities):\\n{final_predictions}\")\n",
        "\n",
        "# Get the predicted class index\n",
        "predicted_class_index = np.argmax(final_predictions, axis=1)[0]\n",
        "print(f\"\\nPredicted class index: {predicted_class_index}\")\n",
        "\n",
        "# If you have a list or dictionary mapping indices to class names:\n",
        "# class_names = ['cat', 'dog', ...] # Example\n",
        "# predicted_class_name = class_names[predicted_class_index]\n",
        "# print(f\"Predicted class name: {predicted_class_name}\")\n",
        "\n",
        "# --- Optional: Compare with original model's prediction ---\n",
        "# This helps verify that splitting the model didn't break anything (before compression)\n",
        "print(\"\\n--- Verifying with original model ---\")\n",
        "\n",
        "# (Need to load the image again if not available)\n",
        "image_path = '/kaggle/split_data/test/Cat/11530.jpg'\n",
        "\n",
        "if not os.path.exists(image_path):\n",
        "     # Create a dummy image if needed for testing:\n",
        "    try:\n",
        "        print(\"Creating dummy image for verification...\")\n",
        "        dummy_data = np.random.rand(input_shape[0], input_shape[1], input_shape[2]) * 255\n",
        "        tf.keras.preprocessing.image.save_img(image_path, dummy_data)\n",
        "    except Exception as e:\n",
        "        print(f\"Could not create dummy image: {e}.\")\n",
        "        # Cannot verify without an image\n",
        "else:\n",
        "    def load_and_preprocess_image(image_path, target_shape):\n",
        "        img = tf.keras.preprocessing.image.load_img(image_path, target_size=target_shape[:2])\n",
        "        img_array = tf.keras.preprocessing.image.img_to_array(img)\n",
        "        img_array = np.expand_dims(img_array, axis=0)\n",
        "        img_array = img_array / 255.0\n",
        "        return img_array\n",
        "\n",
        "    preprocessed_image_for_full_model = load_and_preprocess_image(image_path, input_shape)\n",
        "    original_model_predictions = model.predict(preprocessed_image_for_full_model)\n",
        "    original_predicted_class_index = np.argmax(original_model_predictions, axis=1)[0]\n",
        "\n",
        "    print(f\"Original model predicted index: {original_predicted_class_index}\")\n",
        "    print(f\"Feature map pipeline predicted index: {predicted_class_index}\")\n",
        "\n",
        "    # Check if predictions are numerically close (they should be almost identical)\n",
        "    if np.allclose(final_predictions, original_model_predictions, atol=1e-6):\n",
        "        print(\"SUCCESS: Predictions from split model match original model (before compression).\")\n",
        "    else:\n",
        "        print(\"WARNING: Predictions from split model DO NOT match original model.\")\n",
        "        print(\"Original:\", original_model_predictions)\n",
        "        print(\"Split:\", final_predictions)"
      ],
      "metadata": {
        "colab": {
          "base_uri": "https://localhost:8080/"
        },
        "id": "wh6ZWxfM60or",
        "outputId": "aaf382f6-d89e-480e-ff4e-a6cf277a12bb"
      },
      "execution_count": 40,
      "outputs": [
        {
          "output_type": "stream",
          "name": "stdout",
          "text": [
            "\u001b[1m1/1\u001b[0m \u001b[32m━━━━━━━━━━━━━━━━━━━━\u001b[0m\u001b[37m\u001b[0m \u001b[1m0s\u001b[0m 38ms/step\n",
            "\n",
            "Shape of final predictions: (1, 2)\n",
            "Raw predictions (probabilities):\n",
            "[[0.75012386 0.24987611]]\n",
            "\n",
            "Predicted class index: 0\n",
            "\n",
            "--- Verifying with original model ---\n",
            "\u001b[1m1/1\u001b[0m \u001b[32m━━━━━━━━━━━━━━━━━━━━\u001b[0m\u001b[37m\u001b[0m \u001b[1m0s\u001b[0m 36ms/step\n",
            "Original model predicted index: 0\n",
            "Feature map pipeline predicted index: 0\n",
            "WARNING: Predictions from split model DO NOT match original model.\n",
            "Original: [[0.7234268  0.27657315]]\n",
            "Split: [[0.75012386 0.24987611]]\n"
          ]
        }
      ]
    }
  ],
  "metadata": {
    "colab": {
      "provenance": [],
      "machine_shape": "hm",
      "gpuType": "A100",
      "include_colab_link": true
    },
    "kernelspec": {
      "display_name": "Python 3",
      "name": "python3"
    },
    "language_info": {
      "name": "python"
    },
    "accelerator": "GPU"
  },
  "nbformat": 4,
  "nbformat_minor": 0
}